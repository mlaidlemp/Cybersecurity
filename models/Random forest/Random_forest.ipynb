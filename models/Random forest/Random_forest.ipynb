{
 "cells": [
  {
   "cell_type": "code",
   "execution_count": 1,
   "metadata": {
    "_cell_guid": "b1076dfc-b9ad-4769-8c92-a6c4dae69d19",
    "_uuid": "8f2839f25d086af736a60e9eeb907d3b93b6e0e5",
    "execution": {
     "iopub.execute_input": "2025-03-19T23:24:49.256896Z",
     "iopub.status.busy": "2025-03-19T23:24:49.256401Z",
     "iopub.status.idle": "2025-03-19T23:24:50.208005Z",
     "shell.execute_reply": "2025-03-19T23:24:50.206961Z"
    },
    "papermill": {
     "duration": 0.959455,
     "end_time": "2025-03-19T23:24:50.209980",
     "exception": false,
     "start_time": "2025-03-19T23:24:49.250525",
     "status": "completed"
    },
    "tags": []
   },
   "outputs": [],
   "source": [
    "import numpy as np\n",
    "import matplotlib.pyplot as plt\n",
    "import pandas as pd"
   ]
  },
  {
   "cell_type": "markdown",
   "metadata": {
    "papermill": {
     "duration": 0.003627,
     "end_time": "2025-03-19T23:24:50.217996",
     "exception": false,
     "start_time": "2025-03-19T23:24:50.214369",
     "status": "completed"
    },
    "tags": []
   },
   "source": [
    "# Importing the dataset "
   ]
  },
  {
   "cell_type": "code",
   "execution_count": 2,
   "metadata": {
    "execution": {
     "iopub.execute_input": "2025-03-19T23:24:50.227640Z",
     "iopub.status.busy": "2025-03-19T23:24:50.227167Z",
     "iopub.status.idle": "2025-03-19T23:24:54.084773Z",
     "shell.execute_reply": "2025-03-19T23:24:54.082843Z"
    },
    "papermill": {
     "duration": 3.865006,
     "end_time": "2025-03-19T23:24:54.087144",
     "exception": false,
     "start_time": "2025-03-19T23:24:50.222138",
     "status": "completed"
    },
    "scrolled": true,
    "tags": []
   },
   "outputs": [
    {
     "data": {
      "text/html": [
       "<div>\n",
       "<style scoped>\n",
       "    .dataframe tbody tr th:only-of-type {\n",
       "        vertical-align: middle;\n",
       "    }\n",
       "\n",
       "    .dataframe tbody tr th {\n",
       "        vertical-align: top;\n",
       "    }\n",
       "\n",
       "    .dataframe thead th {\n",
       "        text-align: right;\n",
       "    }\n",
       "</style>\n",
       "<table border=\"1\" class=\"dataframe\">\n",
       "  <thead>\n",
       "    <tr style=\"text-align: right;\">\n",
       "      <th></th>\n",
       "      <th>dur</th>\n",
       "      <th>proto</th>\n",
       "      <th>service</th>\n",
       "      <th>state</th>\n",
       "      <th>spkts</th>\n",
       "      <th>dpkts</th>\n",
       "      <th>sbytes</th>\n",
       "      <th>dbytes</th>\n",
       "      <th>rate</th>\n",
       "      <th>sload</th>\n",
       "      <th>...</th>\n",
       "      <th>trans_depth</th>\n",
       "      <th>response_body_len</th>\n",
       "      <th>ct_src_dport_ltm</th>\n",
       "      <th>ct_dst_sport_ltm</th>\n",
       "      <th>is_ftp_login</th>\n",
       "      <th>ct_ftp_cmd</th>\n",
       "      <th>ct_flw_http_mthd</th>\n",
       "      <th>is_sm_ips_ports</th>\n",
       "      <th>attack_cat</th>\n",
       "      <th>label</th>\n",
       "    </tr>\n",
       "  </thead>\n",
       "  <tbody>\n",
       "    <tr>\n",
       "      <th>0</th>\n",
       "      <td>0.121478</td>\n",
       "      <td>tcp</td>\n",
       "      <td>-</td>\n",
       "      <td>FIN</td>\n",
       "      <td>6</td>\n",
       "      <td>4</td>\n",
       "      <td>258</td>\n",
       "      <td>172</td>\n",
       "      <td>74.087490</td>\n",
       "      <td>14158.9420</td>\n",
       "      <td>...</td>\n",
       "      <td>0</td>\n",
       "      <td>0</td>\n",
       "      <td>1</td>\n",
       "      <td>1</td>\n",
       "      <td>0</td>\n",
       "      <td>0</td>\n",
       "      <td>0</td>\n",
       "      <td>0</td>\n",
       "      <td>Normal</td>\n",
       "      <td>0</td>\n",
       "    </tr>\n",
       "    <tr>\n",
       "      <th>1</th>\n",
       "      <td>0.649902</td>\n",
       "      <td>tcp</td>\n",
       "      <td>-</td>\n",
       "      <td>FIN</td>\n",
       "      <td>14</td>\n",
       "      <td>38</td>\n",
       "      <td>734</td>\n",
       "      <td>42014</td>\n",
       "      <td>78.473370</td>\n",
       "      <td>8395.1120</td>\n",
       "      <td>...</td>\n",
       "      <td>0</td>\n",
       "      <td>0</td>\n",
       "      <td>1</td>\n",
       "      <td>1</td>\n",
       "      <td>0</td>\n",
       "      <td>0</td>\n",
       "      <td>0</td>\n",
       "      <td>0</td>\n",
       "      <td>Normal</td>\n",
       "      <td>0</td>\n",
       "    </tr>\n",
       "    <tr>\n",
       "      <th>2</th>\n",
       "      <td>1.623129</td>\n",
       "      <td>tcp</td>\n",
       "      <td>-</td>\n",
       "      <td>FIN</td>\n",
       "      <td>8</td>\n",
       "      <td>16</td>\n",
       "      <td>364</td>\n",
       "      <td>13186</td>\n",
       "      <td>14.170161</td>\n",
       "      <td>1572.2719</td>\n",
       "      <td>...</td>\n",
       "      <td>0</td>\n",
       "      <td>0</td>\n",
       "      <td>1</td>\n",
       "      <td>1</td>\n",
       "      <td>0</td>\n",
       "      <td>0</td>\n",
       "      <td>0</td>\n",
       "      <td>0</td>\n",
       "      <td>Normal</td>\n",
       "      <td>0</td>\n",
       "    </tr>\n",
       "    <tr>\n",
       "      <th>3</th>\n",
       "      <td>1.681642</td>\n",
       "      <td>tcp</td>\n",
       "      <td>ftp</td>\n",
       "      <td>FIN</td>\n",
       "      <td>12</td>\n",
       "      <td>12</td>\n",
       "      <td>628</td>\n",
       "      <td>770</td>\n",
       "      <td>13.677108</td>\n",
       "      <td>2740.1790</td>\n",
       "      <td>...</td>\n",
       "      <td>0</td>\n",
       "      <td>0</td>\n",
       "      <td>1</td>\n",
       "      <td>1</td>\n",
       "      <td>1</td>\n",
       "      <td>1</td>\n",
       "      <td>0</td>\n",
       "      <td>0</td>\n",
       "      <td>Normal</td>\n",
       "      <td>0</td>\n",
       "    </tr>\n",
       "    <tr>\n",
       "      <th>4</th>\n",
       "      <td>0.449454</td>\n",
       "      <td>tcp</td>\n",
       "      <td>-</td>\n",
       "      <td>FIN</td>\n",
       "      <td>10</td>\n",
       "      <td>6</td>\n",
       "      <td>534</td>\n",
       "      <td>268</td>\n",
       "      <td>33.373825</td>\n",
       "      <td>8561.4990</td>\n",
       "      <td>...</td>\n",
       "      <td>0</td>\n",
       "      <td>0</td>\n",
       "      <td>2</td>\n",
       "      <td>1</td>\n",
       "      <td>0</td>\n",
       "      <td>0</td>\n",
       "      <td>0</td>\n",
       "      <td>0</td>\n",
       "      <td>Normal</td>\n",
       "      <td>0</td>\n",
       "    </tr>\n",
       "  </tbody>\n",
       "</table>\n",
       "<p>5 rows × 36 columns</p>\n",
       "</div>"
      ],
      "text/plain": [
       "        dur proto service state  spkts  dpkts  sbytes  dbytes       rate  \\\n",
       "0  0.121478   tcp       -   FIN      6      4     258     172  74.087490   \n",
       "1  0.649902   tcp       -   FIN     14     38     734   42014  78.473370   \n",
       "2  1.623129   tcp       -   FIN      8     16     364   13186  14.170161   \n",
       "3  1.681642   tcp     ftp   FIN     12     12     628     770  13.677108   \n",
       "4  0.449454   tcp       -   FIN     10      6     534     268  33.373825   \n",
       "\n",
       "        sload  ...  trans_depth  response_body_len  ct_src_dport_ltm  \\\n",
       "0  14158.9420  ...            0                  0                 1   \n",
       "1   8395.1120  ...            0                  0                 1   \n",
       "2   1572.2719  ...            0                  0                 1   \n",
       "3   2740.1790  ...            0                  0                 1   \n",
       "4   8561.4990  ...            0                  0                 2   \n",
       "\n",
       "   ct_dst_sport_ltm  is_ftp_login  ct_ftp_cmd  ct_flw_http_mthd  \\\n",
       "0                 1             0           0                 0   \n",
       "1                 1             0           0                 0   \n",
       "2                 1             0           0                 0   \n",
       "3                 1             1           1                 0   \n",
       "4                 1             0           0                 0   \n",
       "\n",
       "   is_sm_ips_ports  attack_cat  label  \n",
       "0                0      Normal      0  \n",
       "1                0      Normal      0  \n",
       "2                0      Normal      0  \n",
       "3                0      Normal      0  \n",
       "4                0      Normal      0  \n",
       "\n",
       "[5 rows x 36 columns]"
      ]
     },
     "execution_count": 2,
     "metadata": {},
     "output_type": "execute_result"
    }
   ],
   "source": [
    "original = pd.read_parquet(\"PATH_TO_FILE\")\n",
    "original.to_csv(\"data.csv\", index=False)\n",
    "dataset = pd.read_csv('PATH_TO_FILE')\n",
    "dataset.head()\n",
    "\n"
   ]
  },
  {
   "cell_type": "code",
   "execution_count": 3,
   "metadata": {
    "execution": {
     "iopub.execute_input": "2025-03-19T23:24:54.103390Z",
     "iopub.status.busy": "2025-03-19T23:24:54.102866Z",
     "iopub.status.idle": "2025-03-19T23:24:54.107691Z",
     "shell.execute_reply": "2025-03-19T23:24:54.106541Z"
    },
    "papermill": {
     "duration": 0.01763,
     "end_time": "2025-03-19T23:24:54.110056",
     "exception": false,
     "start_time": "2025-03-19T23:24:54.092426",
     "status": "completed"
    },
    "tags": []
   },
   "outputs": [],
   "source": [
    "#print(\"Dataset Shape:\", dataset.shape)  # Number of rows & columns\n",
    "#print(dataset.info())  # Column names & data types\n",
    "#print(dataset.describe())  # Summary statistics"
   ]
  },
  {
   "cell_type": "markdown",
   "metadata": {
    "papermill": {
     "duration": 0.004534,
     "end_time": "2025-03-19T23:24:54.122886",
     "exception": false,
     "start_time": "2025-03-19T23:24:54.118352",
     "status": "completed"
    },
    "tags": []
   },
   "source": [
    "# Check for Missing Values"
   ]
  },
  {
   "cell_type": "code",
   "execution_count": 4,
   "metadata": {
    "execution": {
     "iopub.execute_input": "2025-03-19T23:24:54.134234Z",
     "iopub.status.busy": "2025-03-19T23:24:54.133708Z",
     "iopub.status.idle": "2025-03-19T23:24:54.194090Z",
     "shell.execute_reply": "2025-03-19T23:24:54.193044Z"
    },
    "papermill": {
     "duration": 0.068911,
     "end_time": "2025-03-19T23:24:54.196336",
     "exception": false,
     "start_time": "2025-03-19T23:24:54.127425",
     "status": "completed"
    },
    "tags": []
   },
   "outputs": [
    {
     "name": "stdout",
     "output_type": "stream",
     "text": [
      "0\n"
     ]
    }
   ],
   "source": [
    "print(dataset.isnull().sum().sum())"
   ]
  },
  {
   "cell_type": "markdown",
   "metadata": {
    "papermill": {
     "duration": 0.004494,
     "end_time": "2025-03-19T23:24:54.205426",
     "exception": false,
     "start_time": "2025-03-19T23:24:54.200932",
     "status": "completed"
    },
    "tags": []
   },
   "source": [
    "# Convert categorical features into numbers"
   ]
  },
  {
   "cell_type": "code",
   "execution_count": 5,
   "metadata": {
    "execution": {
     "iopub.execute_input": "2025-03-19T23:24:54.217616Z",
     "iopub.status.busy": "2025-03-19T23:24:54.217166Z",
     "iopub.status.idle": "2025-03-19T23:24:55.742296Z",
     "shell.execute_reply": "2025-03-19T23:24:55.741014Z"
    },
    "papermill": {
     "duration": 1.533168,
     "end_time": "2025-03-19T23:24:55.744182",
     "exception": false,
     "start_time": "2025-03-19T23:24:54.211014",
     "status": "completed"
    },
    "tags": []
   },
   "outputs": [],
   "source": [
    "from sklearn.preprocessing import LabelEncoder\n",
    "categorical_cols = [\"proto\", \"service\", \"state\", \"attack_cat\"]\n",
    "\n",
    "le = LabelEncoder()\n",
    "for col in categorical_cols:\n",
    "    dataset[col] = le.fit_transform(dataset[col])"
   ]
  },
  {
   "cell_type": "code",
   "execution_count": 6,
   "metadata": {
    "execution": {
     "iopub.execute_input": "2025-03-19T23:24:55.754342Z",
     "iopub.status.busy": "2025-03-19T23:24:55.753704Z",
     "iopub.status.idle": "2025-03-19T23:24:55.795636Z",
     "shell.execute_reply": "2025-03-19T23:24:55.794394Z"
    },
    "papermill": {
     "duration": 0.049059,
     "end_time": "2025-03-19T23:24:55.797664",
     "exception": false,
     "start_time": "2025-03-19T23:24:55.748605",
     "status": "completed"
    },
    "tags": []
   },
   "outputs": [],
   "source": [
    "X = dataset.iloc[:, :-1].values\n",
    "y = dataset.iloc[:, -1].values"
   ]
  },
  {
   "cell_type": "markdown",
   "metadata": {
    "papermill": {
     "duration": 0.004007,
     "end_time": "2025-03-19T23:24:55.806136",
     "exception": false,
     "start_time": "2025-03-19T23:24:55.802129",
     "status": "completed"
    },
    "tags": []
   },
   "source": [
    "# Splitting the dataset into the Training set and Test set"
   ]
  },
  {
   "cell_type": "code",
   "execution_count": 7,
   "metadata": {
    "execution": {
     "iopub.execute_input": "2025-03-19T23:24:55.815789Z",
     "iopub.status.busy": "2025-03-19T23:24:55.815377Z",
     "iopub.status.idle": "2025-03-19T23:24:56.020743Z",
     "shell.execute_reply": "2025-03-19T23:24:56.019742Z"
    },
    "papermill": {
     "duration": 0.212379,
     "end_time": "2025-03-19T23:24:56.022650",
     "exception": false,
     "start_time": "2025-03-19T23:24:55.810271",
     "status": "completed"
    },
    "tags": []
   },
   "outputs": [],
   "source": [
    "from sklearn.model_selection import train_test_split\n",
    "X_train, X_test, y_train, y_test = train_test_split(X, y, test_size = 0.2, random_state = 0)"
   ]
  },
  {
   "cell_type": "markdown",
   "metadata": {
    "papermill": {
     "duration": 0.00407,
     "end_time": "2025-03-19T23:24:56.031422",
     "exception": false,
     "start_time": "2025-03-19T23:24:56.027352",
     "status": "completed"
    },
    "tags": []
   },
   "source": [
    "# Feature Scaling"
   ]
  },
  {
   "cell_type": "code",
   "execution_count": 8,
   "metadata": {
    "execution": {
     "iopub.execute_input": "2025-03-19T23:24:56.041164Z",
     "iopub.status.busy": "2025-03-19T23:24:56.040768Z",
     "iopub.status.idle": "2025-03-19T23:24:56.167747Z",
     "shell.execute_reply": "2025-03-19T23:24:56.166552Z"
    },
    "papermill": {
     "duration": 0.134185,
     "end_time": "2025-03-19T23:24:56.169759",
     "exception": false,
     "start_time": "2025-03-19T23:24:56.035574",
     "status": "completed"
    },
    "tags": []
   },
   "outputs": [],
   "source": [
    "from sklearn.preprocessing import StandardScaler\n",
    "sc = StandardScaler()\n",
    "X_train = sc.fit_transform(X_train)\n",
    "X_test = sc.transform(X_test)"
   ]
  },
  {
   "cell_type": "markdown",
   "metadata": {
    "papermill": {
     "duration": 0.005042,
     "end_time": "2025-03-19T23:24:56.180313",
     "exception": false,
     "start_time": "2025-03-19T23:24:56.175271",
     "status": "completed"
    },
    "tags": []
   },
   "source": [
    "# Training the Random Forest Classification model on the Training set"
   ]
  },
  {
   "cell_type": "code",
   "execution_count": 9,
   "metadata": {
    "execution": {
     "iopub.execute_input": "2025-03-19T23:24:56.190401Z",
     "iopub.status.busy": "2025-03-19T23:24:56.190027Z",
     "iopub.status.idle": "2025-03-19T23:24:58.145072Z",
     "shell.execute_reply": "2025-03-19T23:24:58.143992Z"
    },
    "papermill": {
     "duration": 1.962102,
     "end_time": "2025-03-19T23:24:58.146923",
     "exception": false,
     "start_time": "2025-03-19T23:24:56.184821",
     "status": "completed"
    },
    "tags": []
   },
   "outputs": [
    {
     "data": {
      "text/plain": [
       "RandomForestClassifier(criterion='entropy', n_estimators=10, random_state=0)"
      ]
     },
     "execution_count": 9,
     "metadata": {},
     "output_type": "execute_result"
    }
   ],
   "source": [
    "from sklearn.ensemble import RandomForestClassifier\n",
    "classifier = RandomForestClassifier(n_estimators = 10, criterion = 'entropy', random_state = 0)\n",
    "classifier.fit(X_train, y_train)"
   ]
  },
  {
   "cell_type": "markdown",
   "metadata": {
    "papermill": {
     "duration": 0.004122,
     "end_time": "2025-03-19T23:24:58.155551",
     "exception": false,
     "start_time": "2025-03-19T23:24:58.151429",
     "status": "completed"
    },
    "tags": []
   },
   "source": [
    "# Predicting the Test set results"
   ]
  },
  {
   "cell_type": "code",
   "execution_count": 10,
   "metadata": {
    "execution": {
     "iopub.execute_input": "2025-03-19T23:24:58.165419Z",
     "iopub.status.busy": "2025-03-19T23:24:58.165022Z",
     "iopub.status.idle": "2025-03-19T23:24:58.201432Z",
     "shell.execute_reply": "2025-03-19T23:24:58.200225Z"
    },
    "papermill": {
     "duration": 0.04357,
     "end_time": "2025-03-19T23:24:58.203433",
     "exception": false,
     "start_time": "2025-03-19T23:24:58.159863",
     "status": "completed"
    },
    "tags": []
   },
   "outputs": [],
   "source": [
    "y_pred = classifier.predict(X_test)"
   ]
  },
  {
   "cell_type": "markdown",
   "metadata": {
    "papermill": {
     "duration": 0.004268,
     "end_time": "2025-03-19T23:24:58.212294",
     "exception": false,
     "start_time": "2025-03-19T23:24:58.208026",
     "status": "completed"
    },
    "tags": []
   },
   "source": [
    "# Making the Confusion Matrix"
   ]
  },
  {
   "cell_type": "code",
   "execution_count": 11,
   "metadata": {
    "execution": {
     "iopub.execute_input": "2025-03-19T23:24:58.222497Z",
     "iopub.status.busy": "2025-03-19T23:24:58.222083Z",
     "iopub.status.idle": "2025-03-19T23:24:58.240956Z",
     "shell.execute_reply": "2025-03-19T23:24:58.239707Z"
    },
    "papermill": {
     "duration": 0.026088,
     "end_time": "2025-03-19T23:24:58.242750",
     "exception": false,
     "start_time": "2025-03-19T23:24:58.216662",
     "status": "completed"
    },
    "tags": []
   },
   "outputs": [
    {
     "name": "stdout",
     "output_type": "stream",
     "text": [
      "[[11245     1]\n",
      " [    0 23823]]\n"
     ]
    },
    {
     "data": {
      "text/plain": [
       "0.9999714847871339"
      ]
     },
     "execution_count": 11,
     "metadata": {},
     "output_type": "execute_result"
    }
   ],
   "source": [
    "from sklearn.metrics import confusion_matrix, accuracy_score\n",
    "cm = confusion_matrix(y_test, y_pred)\n",
    "print(cm)\n",
    "accuracy_score(y_test, y_pred)"
   ]
  },
  {
   "cell_type": "markdown",
   "metadata": {},
   "source": [
    "# Accuracy Score"
   ]
  },
  {
   "cell_type": "code",
   "execution_count": 12,
   "metadata": {},
   "outputs": [
    {
     "name": "stdout",
     "output_type": "stream",
     "text": [
      "Accuracy: 1.0000\n"
     ]
    }
   ],
   "source": [
    "accuracy = accuracy_score(y_test, y_pred)\n",
    "print(f'Accuracy: {accuracy:.4f}')"
   ]
  },
  {
   "cell_type": "markdown",
   "metadata": {},
   "source": [
    "# Precision, Recall, and F1-Score"
   ]
  },
  {
   "cell_type": "code",
   "execution_count": 13,
   "metadata": {},
   "outputs": [
    {
     "name": "stdout",
     "output_type": "stream",
     "text": [
      "Precision: 1.0000\n",
      "Recall: 1.0000\n",
      "F1-Score: 1.0000\n"
     ]
    }
   ],
   "source": [
    "from sklearn.metrics import precision_score, recall_score, f1_score\n",
    "\n",
    "precision = precision_score(y_test, y_pred, average='weighted')\n",
    "recall = recall_score(y_test, y_pred, average='weighted')\n",
    "f1 = f1_score(y_test, y_pred, average='weighted')\n",
    "\n",
    "print(f'Precision: {precision:.4f}')\n",
    "print(f'Recall: {recall:.4f}')\n",
    "print(f'F1-Score: {f1:.4f}')"
   ]
  },
  {
   "cell_type": "markdown",
   "metadata": {},
   "source": [
    "# ROC-AUC Score"
   ]
  },
  {
   "cell_type": "code",
   "execution_count": 14,
   "metadata": {},
   "outputs": [
    {
     "name": "stdout",
     "output_type": "stream",
     "text": [
      "ROC-AUC Score: 1.0000\n"
     ]
    }
   ],
   "source": [
    "from sklearn.metrics import roc_auc_score\n",
    "roc_auc = roc_auc_score(y_test, y_pred, multi_class='ovr')\n",
    "print(f'ROC-AUC Score: {roc_auc:.4f}')"
   ]
  },
  {
   "cell_type": "markdown",
   "metadata": {},
   "source": [
    "# Classification Report"
   ]
  },
  {
   "cell_type": "code",
   "execution_count": 15,
   "metadata": {},
   "outputs": [
    {
     "name": "stdout",
     "output_type": "stream",
     "text": [
      "              precision    recall  f1-score   support\n",
      "\n",
      "           0       1.00      1.00      1.00     11246\n",
      "           1       1.00      1.00      1.00     23823\n",
      "\n",
      "    accuracy                           1.00     35069\n",
      "   macro avg       1.00      1.00      1.00     35069\n",
      "weighted avg       1.00      1.00      1.00     35069\n",
      "\n"
     ]
    }
   ],
   "source": [
    "from sklearn.metrics import classification_report\n",
    "print(classification_report(y_test, y_pred))"
   ]
  },
  {
   "cell_type": "markdown",
   "metadata": {},
   "source": [
    "# Applying k-Fold Cross Validation"
   ]
  },
  {
   "cell_type": "code",
   "execution_count": null,
   "metadata": {},
   "outputs": [],
   "source": [
    "from sklearn.model_selection import cross_val_score\n",
    "accuracies = cross_val_score(estimator = classifier, X = X_train, y = y_train, cv = 10)\n",
    "print(\"Accuracy: {:.2f} %\".format(accuracies.mean()*100))\n",
    "print(\"Standard Deviation: {:.2f} %\".format(accuracies.std()*100))"
   ]
  },
  {
   "cell_type": "markdown",
   "metadata": {},
   "source": [
    "# Saving the model"
   ]
  },
  {
   "cell_type": "code",
   "execution_count": 16,
   "metadata": {},
   "outputs": [
    {
     "data": {
      "text/plain": [
       "['random_forest.pkl']"
      ]
     },
     "execution_count": 16,
     "metadata": {},
     "output_type": "execute_result"
    }
   ],
   "source": [
    "import joblib\n",
    "joblib.dump(classifier, \"random_forest.pkl\")"
   ]
  },
  {
   "cell_type": "code",
   "execution_count": null,
   "metadata": {},
   "outputs": [],
   "source": []
  }
 ],
 "metadata": {
  "kaggle": {
   "accelerator": "none",
   "dataSources": [
    {
     "datasetId": 2391328,
     "sourceId": 9350725,
     "sourceType": "datasetVersion"
    }
   ],
   "dockerImageVersionId": 30918,
   "isGpuEnabled": false,
   "isInternetEnabled": true,
   "language": "python",
   "sourceType": "notebook"
  },
  "kernelspec": {
   "display_name": "Python 3",
   "language": "python",
   "name": "python3"
  },
  "language_info": {
   "codemirror_mode": {
    "name": "ipython",
    "version": 3
   },
   "file_extension": ".py",
   "mimetype": "text/x-python",
   "name": "python",
   "nbconvert_exporter": "python",
   "pygments_lexer": "ipython3",
   "version": "3.6.9"
  },
  "papermill": {
   "default_parameters": {},
   "duration": 12.528105,
   "end_time": "2025-03-19T23:24:58.967863",
   "environment_variables": {},
   "exception": null,
   "input_path": "__notebook__.ipynb",
   "output_path": "__notebook__.ipynb",
   "parameters": {},
   "start_time": "2025-03-19T23:24:46.439758",
   "version": "2.6.0"
  }
 },
 "nbformat": 4,
 "nbformat_minor": 5
}
