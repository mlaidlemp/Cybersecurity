{
 "cells": [
  {
   "cell_type": "code",
   "execution_count": 1,
   "metadata": {
    "_cell_guid": "b1076dfc-b9ad-4769-8c92-a6c4dae69d19",
    "_uuid": "8f2839f25d086af736a60e9eeb907d3b93b6e0e5",
    "execution": {
     "iopub.execute_input": "2025-03-19T23:24:49.256896Z",
     "iopub.status.busy": "2025-03-19T23:24:49.256401Z",
     "iopub.status.idle": "2025-03-19T23:24:50.208005Z",
     "shell.execute_reply": "2025-03-19T23:24:50.206961Z"
    },
    "papermill": {
     "duration": 0.959455,
     "end_time": "2025-03-19T23:24:50.209980",
     "exception": false,
     "start_time": "2025-03-19T23:24:49.250525",
     "status": "completed"
    },
    "tags": []
   },
   "outputs": [],
   "source": [
    "import numpy as np\n",
    "import matplotlib.pyplot as plt\n",
    "import pandas as pd"
   ]
  },
  {
   "cell_type": "markdown",
   "metadata": {
    "papermill": {
     "duration": 0.003627,
     "end_time": "2025-03-19T23:24:50.217996",
     "exception": false,
     "start_time": "2025-03-19T23:24:50.214369",
     "status": "completed"
    },
    "tags": []
   },
   "source": [
    "# Importing the dataset "
   ]
  },
  {
   "cell_type": "code",
   "execution_count": 2,
   "metadata": {
    "execution": {
     "iopub.execute_input": "2025-03-19T23:24:50.227640Z",
     "iopub.status.busy": "2025-03-19T23:24:50.227167Z",
     "iopub.status.idle": "2025-03-19T23:24:54.084773Z",
     "shell.execute_reply": "2025-03-19T23:24:54.082843Z"
    },
    "papermill": {
     "duration": 3.865006,
     "end_time": "2025-03-19T23:24:54.087144",
     "exception": false,
     "start_time": "2025-03-19T23:24:50.222138",
     "status": "completed"
    },
    "scrolled": true,
    "tags": []
   },
   "outputs": [],
   "source": [
    "original = pd.read_parquet(\"/home/sm/AI/z_portfolio/models/Cyber/random_forest/UNSW_NB15_training-set.parquet\")\n",
    "original.to_csv(\"data.csv\", index=False)\n",
    "dataset = pd.read_csv('/home/sm/AI/z_portfolio/models/Cyber/random_forest/data.csv')\n",
    "#dataset.head()\n",
    "\n"
   ]
  },
  {
   "cell_type": "code",
   "execution_count": 3,
   "metadata": {
    "execution": {
     "iopub.execute_input": "2025-03-19T23:24:54.103390Z",
     "iopub.status.busy": "2025-03-19T23:24:54.102866Z",
     "iopub.status.idle": "2025-03-19T23:24:54.107691Z",
     "shell.execute_reply": "2025-03-19T23:24:54.106541Z"
    },
    "papermill": {
     "duration": 0.01763,
     "end_time": "2025-03-19T23:24:54.110056",
     "exception": false,
     "start_time": "2025-03-19T23:24:54.092426",
     "status": "completed"
    },
    "tags": []
   },
   "outputs": [],
   "source": [
    "#print(\"Dataset Shape:\", dataset.shape)  # Number of rows & columns\n",
    "#print(dataset.info())  # Column names & data types\n",
    "#print(dataset.describe())  # Summary statistics"
   ]
  },
  {
   "cell_type": "markdown",
   "metadata": {
    "papermill": {
     "duration": 0.004534,
     "end_time": "2025-03-19T23:24:54.122886",
     "exception": false,
     "start_time": "2025-03-19T23:24:54.118352",
     "status": "completed"
    },
    "tags": []
   },
   "source": [
    "# Check for Missing Values"
   ]
  },
  {
   "cell_type": "code",
   "execution_count": 4,
   "metadata": {
    "execution": {
     "iopub.execute_input": "2025-03-19T23:24:54.134234Z",
     "iopub.status.busy": "2025-03-19T23:24:54.133708Z",
     "iopub.status.idle": "2025-03-19T23:24:54.194090Z",
     "shell.execute_reply": "2025-03-19T23:24:54.193044Z"
    },
    "papermill": {
     "duration": 0.068911,
     "end_time": "2025-03-19T23:24:54.196336",
     "exception": false,
     "start_time": "2025-03-19T23:24:54.127425",
     "status": "completed"
    },
    "tags": []
   },
   "outputs": [
    {
     "name": "stdout",
     "output_type": "stream",
     "text": [
      "0\n"
     ]
    }
   ],
   "source": [
    "print(dataset.isnull().sum().sum())"
   ]
  },
  {
   "cell_type": "markdown",
   "metadata": {
    "papermill": {
     "duration": 0.004494,
     "end_time": "2025-03-19T23:24:54.205426",
     "exception": false,
     "start_time": "2025-03-19T23:24:54.200932",
     "status": "completed"
    },
    "tags": []
   },
   "source": [
    "# Convert categorical features into numbers"
   ]
  },
  {
   "cell_type": "code",
   "execution_count": 5,
   "metadata": {
    "execution": {
     "iopub.execute_input": "2025-03-19T23:24:54.217616Z",
     "iopub.status.busy": "2025-03-19T23:24:54.217166Z",
     "iopub.status.idle": "2025-03-19T23:24:55.742296Z",
     "shell.execute_reply": "2025-03-19T23:24:55.741014Z"
    },
    "papermill": {
     "duration": 1.533168,
     "end_time": "2025-03-19T23:24:55.744182",
     "exception": false,
     "start_time": "2025-03-19T23:24:54.211014",
     "status": "completed"
    },
    "tags": []
   },
   "outputs": [],
   "source": [
    "from sklearn.preprocessing import LabelEncoder\n",
    "categorical_cols = [\"proto\", \"service\", \"state\", \"attack_cat\"]\n",
    "\n",
    "le = LabelEncoder()\n",
    "for col in categorical_cols:\n",
    "    dataset[col] = le.fit_transform(dataset[col])"
   ]
  },
  {
   "cell_type": "code",
   "execution_count": 6,
   "metadata": {
    "execution": {
     "iopub.execute_input": "2025-03-19T23:24:55.754342Z",
     "iopub.status.busy": "2025-03-19T23:24:55.753704Z",
     "iopub.status.idle": "2025-03-19T23:24:55.795636Z",
     "shell.execute_reply": "2025-03-19T23:24:55.794394Z"
    },
    "papermill": {
     "duration": 0.049059,
     "end_time": "2025-03-19T23:24:55.797664",
     "exception": false,
     "start_time": "2025-03-19T23:24:55.748605",
     "status": "completed"
    },
    "tags": []
   },
   "outputs": [],
   "source": [
    "X = dataset.iloc[:, :-1].values\n",
    "y = dataset.iloc[:, -1].values"
   ]
  },
  {
   "cell_type": "markdown",
   "metadata": {
    "papermill": {
     "duration": 0.004007,
     "end_time": "2025-03-19T23:24:55.806136",
     "exception": false,
     "start_time": "2025-03-19T23:24:55.802129",
     "status": "completed"
    },
    "tags": []
   },
   "source": [
    "# Splitting the dataset into the Training set and Test set"
   ]
  },
  {
   "cell_type": "code",
   "execution_count": 7,
   "metadata": {
    "execution": {
     "iopub.execute_input": "2025-03-19T23:24:55.815789Z",
     "iopub.status.busy": "2025-03-19T23:24:55.815377Z",
     "iopub.status.idle": "2025-03-19T23:24:56.020743Z",
     "shell.execute_reply": "2025-03-19T23:24:56.019742Z"
    },
    "papermill": {
     "duration": 0.212379,
     "end_time": "2025-03-19T23:24:56.022650",
     "exception": false,
     "start_time": "2025-03-19T23:24:55.810271",
     "status": "completed"
    },
    "tags": []
   },
   "outputs": [],
   "source": [
    "from sklearn.model_selection import train_test_split\n",
    "X_train, X_test, y_train, y_test = train_test_split(X, y, test_size = 0.2, random_state = 0)"
   ]
  },
  {
   "cell_type": "markdown",
   "metadata": {
    "papermill": {
     "duration": 0.00407,
     "end_time": "2025-03-19T23:24:56.031422",
     "exception": false,
     "start_time": "2025-03-19T23:24:56.027352",
     "status": "completed"
    },
    "tags": []
   },
   "source": [
    "# Feature Scaling"
   ]
  },
  {
   "cell_type": "code",
   "execution_count": 8,
   "metadata": {
    "execution": {
     "iopub.execute_input": "2025-03-19T23:24:56.041164Z",
     "iopub.status.busy": "2025-03-19T23:24:56.040768Z",
     "iopub.status.idle": "2025-03-19T23:24:56.167747Z",
     "shell.execute_reply": "2025-03-19T23:24:56.166552Z"
    },
    "papermill": {
     "duration": 0.134185,
     "end_time": "2025-03-19T23:24:56.169759",
     "exception": false,
     "start_time": "2025-03-19T23:24:56.035574",
     "status": "completed"
    },
    "tags": []
   },
   "outputs": [],
   "source": [
    "#from sklearn.preprocessing import StandardScaler\n",
    "#sc = StandardScaler()\n",
    "#X_train = sc.fit_transform(X_train)\n",
    "#X_test = sc.transform(X_test)"
   ]
  },
  {
   "cell_type": "markdown",
   "metadata": {
    "papermill": {
     "duration": 0.005042,
     "end_time": "2025-03-19T23:24:56.180313",
     "exception": false,
     "start_time": "2025-03-19T23:24:56.175271",
     "status": "completed"
    },
    "tags": []
   },
   "source": [
    "#  Training XGBoost on the Training set"
   ]
  },
  {
   "cell_type": "code",
   "execution_count": 18,
   "metadata": {
    "execution": {
     "iopub.execute_input": "2025-03-19T23:24:56.190401Z",
     "iopub.status.busy": "2025-03-19T23:24:56.190027Z",
     "iopub.status.idle": "2025-03-19T23:24:58.145072Z",
     "shell.execute_reply": "2025-03-19T23:24:58.143992Z"
    },
    "papermill": {
     "duration": 1.962102,
     "end_time": "2025-03-19T23:24:58.146923",
     "exception": false,
     "start_time": "2025-03-19T23:24:56.184821",
     "status": "completed"
    },
    "scrolled": true,
    "tags": []
   },
   "outputs": [
    {
     "data": {
      "text/plain": [
       "XGBClassifier(base_score=0.5, booster='gbtree', colsample_bylevel=1,\n",
       "              colsample_bynode=1, colsample_bytree=1, enable_categorical=False,\n",
       "              eval_metric='logloss', gamma=0, gpu_id=-1, importance_type=None,\n",
       "              interaction_constraints='', learning_rate=0.300000012,\n",
       "              max_delta_step=0, max_depth=6, min_child_weight=1, missing=nan,\n",
       "              monotone_constraints='()', n_estimators=100, n_jobs=4,\n",
       "              num_parallel_tree=1, predictor='auto', random_state=0,\n",
       "              reg_alpha=0, reg_lambda=1, scale_pos_weight=1, subsample=1,\n",
       "              tree_method='exact', use_label_encoder=False,\n",
       "              validate_parameters=1, verbosity=None)"
      ]
     },
     "execution_count": 18,
     "metadata": {},
     "output_type": "execute_result"
    }
   ],
   "source": [
    "from xgboost import XGBClassifier\n",
    "#classifier = XGBClassifier()\n",
    "classifier = XGBClassifier(use_label_encoder=False, eval_metric=\"logloss\")\n",
    "classifier.fit(X_train, y_train)"
   ]
  },
  {
   "cell_type": "markdown",
   "metadata": {
    "papermill": {
     "duration": 0.004122,
     "end_time": "2025-03-19T23:24:58.155551",
     "exception": false,
     "start_time": "2025-03-19T23:24:58.151429",
     "status": "completed"
    },
    "tags": []
   },
   "source": [
    "# Predicting the Test set results"
   ]
  },
  {
   "cell_type": "code",
   "execution_count": 10,
   "metadata": {
    "execution": {
     "iopub.execute_input": "2025-03-19T23:24:58.165419Z",
     "iopub.status.busy": "2025-03-19T23:24:58.165022Z",
     "iopub.status.idle": "2025-03-19T23:24:58.201432Z",
     "shell.execute_reply": "2025-03-19T23:24:58.200225Z"
    },
    "papermill": {
     "duration": 0.04357,
     "end_time": "2025-03-19T23:24:58.203433",
     "exception": false,
     "start_time": "2025-03-19T23:24:58.159863",
     "status": "completed"
    },
    "tags": []
   },
   "outputs": [],
   "source": [
    "y_pred = classifier.predict(X_test)"
   ]
  },
  {
   "cell_type": "markdown",
   "metadata": {
    "papermill": {
     "duration": 0.004268,
     "end_time": "2025-03-19T23:24:58.212294",
     "exception": false,
     "start_time": "2025-03-19T23:24:58.208026",
     "status": "completed"
    },
    "tags": []
   },
   "source": [
    "# Making the Confusion Matrix"
   ]
  },
  {
   "cell_type": "code",
   "execution_count": 11,
   "metadata": {
    "execution": {
     "iopub.execute_input": "2025-03-19T23:24:58.222497Z",
     "iopub.status.busy": "2025-03-19T23:24:58.222083Z",
     "iopub.status.idle": "2025-03-19T23:24:58.240956Z",
     "shell.execute_reply": "2025-03-19T23:24:58.239707Z"
    },
    "papermill": {
     "duration": 0.026088,
     "end_time": "2025-03-19T23:24:58.242750",
     "exception": false,
     "start_time": "2025-03-19T23:24:58.216662",
     "status": "completed"
    },
    "tags": []
   },
   "outputs": [
    {
     "name": "stdout",
     "output_type": "stream",
     "text": [
      "[[11246     0]\n",
      " [    0 23823]]\n"
     ]
    },
    {
     "data": {
      "text/plain": [
       "1.0"
      ]
     },
     "execution_count": 11,
     "metadata": {},
     "output_type": "execute_result"
    }
   ],
   "source": [
    "from sklearn.metrics import confusion_matrix, accuracy_score\n",
    "cm = confusion_matrix(y_test, y_pred)\n",
    "print(cm)\n",
    "accuracy_score(y_test, y_pred)"
   ]
  },
  {
   "cell_type": "markdown",
   "metadata": {},
   "source": [
    "# Accuracy Score"
   ]
  },
  {
   "cell_type": "code",
   "execution_count": 12,
   "metadata": {},
   "outputs": [
    {
     "name": "stdout",
     "output_type": "stream",
     "text": [
      "Accuracy: 1.0000\n"
     ]
    }
   ],
   "source": [
    "accuracy = accuracy_score(y_test, y_pred)\n",
    "print(f'Accuracy: {accuracy:.4f}')"
   ]
  },
  {
   "cell_type": "markdown",
   "metadata": {},
   "source": [
    "# Precision, Recall, and F1-Score"
   ]
  },
  {
   "cell_type": "code",
   "execution_count": 13,
   "metadata": {},
   "outputs": [
    {
     "name": "stdout",
     "output_type": "stream",
     "text": [
      "Precision: 1.0000\n",
      "Recall: 1.0000\n",
      "F1-Score: 1.0000\n"
     ]
    }
   ],
   "source": [
    "from sklearn.metrics import precision_score, recall_score, f1_score\n",
    "\n",
    "precision = precision_score(y_test, y_pred, average='weighted')\n",
    "recall = recall_score(y_test, y_pred, average='weighted')\n",
    "f1 = f1_score(y_test, y_pred, average='weighted')\n",
    "\n",
    "print(f'Precision: {precision:.4f}')\n",
    "print(f'Recall: {recall:.4f}')\n",
    "print(f'F1-Score: {f1:.4f}')"
   ]
  },
  {
   "cell_type": "markdown",
   "metadata": {},
   "source": [
    "# ROC-AUC Score"
   ]
  },
  {
   "cell_type": "code",
   "execution_count": 14,
   "metadata": {},
   "outputs": [
    {
     "name": "stdout",
     "output_type": "stream",
     "text": [
      "ROC-AUC Score: 1.0000\n"
     ]
    }
   ],
   "source": [
    "from sklearn.metrics import roc_auc_score\n",
    "roc_auc = roc_auc_score(y_test, y_pred, multi_class='ovr')\n",
    "print(f'ROC-AUC Score: {roc_auc:.4f}')"
   ]
  },
  {
   "cell_type": "markdown",
   "metadata": {},
   "source": [
    "# Classification Report"
   ]
  },
  {
   "cell_type": "code",
   "execution_count": 15,
   "metadata": {},
   "outputs": [
    {
     "name": "stdout",
     "output_type": "stream",
     "text": [
      "              precision    recall  f1-score   support\n",
      "\n",
      "           0       1.00      1.00      1.00     11246\n",
      "           1       1.00      1.00      1.00     23823\n",
      "\n",
      "    accuracy                           1.00     35069\n",
      "   macro avg       1.00      1.00      1.00     35069\n",
      "weighted avg       1.00      1.00      1.00     35069\n",
      "\n"
     ]
    }
   ],
   "source": [
    "from sklearn.metrics import classification_report\n",
    "print(classification_report(y_test, y_pred))"
   ]
  },
  {
   "cell_type": "markdown",
   "metadata": {},
   "source": [
    "# Applying k-Fold Cross Validation"
   ]
  },
  {
   "cell_type": "code",
   "execution_count": 16,
   "metadata": {},
   "outputs": [
    {
     "name": "stdout",
     "output_type": "stream",
     "text": [
      "Accuracy: 100.00 %\n",
      "Standard Deviation: 0.00 %\n"
     ]
    }
   ],
   "source": [
    "from sklearn.model_selection import cross_val_score\n",
    "accuracies = cross_val_score(estimator = classifier, X = X_train, y = y_train, cv = 10)\n",
    "print(\"Accuracy: {:.2f} %\".format(accuracies.mean()*100))\n",
    "print(\"Standard Deviation: {:.2f} %\".format(accuracies.std()*100))"
   ]
  },
  {
   "cell_type": "markdown",
   "metadata": {},
   "source": [
    "# Saving the model"
   ]
  },
  {
   "cell_type": "code",
   "execution_count": 19,
   "metadata": {},
   "outputs": [
    {
     "data": {
      "text/plain": [
       "['XGBoost.pkl']"
      ]
     },
     "execution_count": 19,
     "metadata": {},
     "output_type": "execute_result"
    }
   ],
   "source": [
    "import joblib\n",
    "joblib.dump(classifier, \"XGBoost.pkl\")"
   ]
  },
  {
   "cell_type": "code",
   "execution_count": null,
   "metadata": {},
   "outputs": [],
   "source": []
  }
 ],
 "metadata": {
  "kaggle": {
   "accelerator": "none",
   "dataSources": [
    {
     "datasetId": 2391328,
     "sourceId": 9350725,
     "sourceType": "datasetVersion"
    }
   ],
   "dockerImageVersionId": 30918,
   "isGpuEnabled": false,
   "isInternetEnabled": true,
   "language": "python",
   "sourceType": "notebook"
  },
  "kernelspec": {
   "display_name": "Python 3",
   "language": "python",
   "name": "python3"
  },
  "language_info": {
   "codemirror_mode": {
    "name": "ipython",
    "version": 3
   },
   "file_extension": ".py",
   "mimetype": "text/x-python",
   "name": "python",
   "nbconvert_exporter": "python",
   "pygments_lexer": "ipython3",
   "version": "3.6.9"
  },
  "papermill": {
   "default_parameters": {},
   "duration": 12.528105,
   "end_time": "2025-03-19T23:24:58.967863",
   "environment_variables": {},
   "exception": null,
   "input_path": "__notebook__.ipynb",
   "output_path": "__notebook__.ipynb",
   "parameters": {},
   "start_time": "2025-03-19T23:24:46.439758",
   "version": "2.6.0"
  }
 },
 "nbformat": 4,
 "nbformat_minor": 5
}
